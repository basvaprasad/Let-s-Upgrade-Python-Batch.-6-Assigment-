{
 "cells": [
  {
   "cell_type": "code",
   "execution_count": null,
   "metadata": {},
   "outputs": [],
   "source": []
  },
  {
   "cell_type": "code",
   "execution_count": null,
   "metadata": {},
   "outputs": [],
   "source": [
    "def mergeSortedArrays(list1,list2):\n",
    "    i=0\n",
    "    j=0\n",
    "    len1 = len(list1)\n",
    "    len2 = len(list2)\n",
    "    \n",
    "    list0 = []\n",
    "    \n",
    "    while((i<len1) and (j<len2)):\n",
    "        if(list1[i] < list2[j]):\n",
    "            list0.append(list1[i])\n",
    "            i = i + 1\n",
    "        else:\n",
    "            list0.append(list2[j])\n",
    "            j = j + 1\n",
    "    while(i < len1):\n",
    "        list0.append(list1[i])\n",
    "        i = i + 1\n",
    "        \n",
    "    while(i < len2):\n",
    "        list0.append(list2[j])\n",
    "        j = j + 1\n",
    "    return list0\n",
    "list1 = [10,20,40,60,70,80]\n",
    "list2 = [5,15,25,35,45,60]\n",
    "list0 = mergeSortedArrays(list1, list2)\n",
    "print(list0)"
   ]
  },
  {
   "cell_type": "code",
   "execution_count": null,
   "metadata": {},
   "outputs": [],
   "source": []
  },
  {
   "cell_type": "code",
   "execution_count": null,
   "metadata": {},
   "outputs": [],
   "source": [
    "a=[0,1,2,10,4,1,0,56,2,]"
   ]
  }
 ],
 "metadata": {
  "kernelspec": {
   "display_name": "Python 3",
   "language": "python",
   "name": "python3"
  },
  "language_info": {
   "codemirror_mode": {
    "name": "ipython",
    "version": 3
   },
   "file_extension": ".py",
   "mimetype": "text/x-python",
   "name": "python",
   "nbconvert_exporter": "python",
   "pygments_lexer": "ipython3",
   "version": "3.7.4"
  }
 },
 "nbformat": 4,
 "nbformat_minor": 2
}
